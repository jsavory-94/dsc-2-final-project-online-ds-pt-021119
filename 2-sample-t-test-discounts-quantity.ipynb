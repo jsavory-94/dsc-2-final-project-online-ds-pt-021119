{
 "cells": [
  {
   "cell_type": "markdown",
   "metadata": {},
   "source": [
    "## 1.0 Import Libraries "
   ]
  },
  {
   "cell_type": "code",
   "execution_count": 4,
   "metadata": {},
   "outputs": [],
   "source": [
    "import sqlite3\n",
    "import pandas as pd\n",
    "import math\n",
    "from scipy import stats\n",
    "import seaborn as sns\n",
    "import numpy as np"
   ]
  },
  {
   "cell_type": "markdown",
   "metadata": {},
   "source": [
    "## 1.1 Import Data"
   ]
  },
  {
   "cell_type": "code",
   "execution_count": 8,
   "metadata": {},
   "outputs": [],
   "source": [
    "connection = sqlite3.connect('Northwind_small.sqlite')\n",
    "cursor = connection.cursor()\n",
    "\n",
    "def sql_select_to_df(SQL_COMMAND, cursor=cursor):\n",
    "    results = cursor.execute(SQL_COMMAND).fetchall()\n",
    "    df = pd.DataFrame(results)\n",
    "    df.columns = [i[0] for i in cursor.description]\n",
    "    return df\n",
    "\n",
    "orderDetail_df = sql_select_to_df(\"\"\"select * from OrderDetail;\"\"\")"
   ]
  },
  {
   "cell_type": "markdown",
   "metadata": {},
   "source": [
    "## 1 Identified unique discount rates"
   ]
  },
  {
   "cell_type": "markdown",
   "metadata": {},
   "source": []
  },
  {
   "cell_type": "code",
   "execution_count": 9,
   "metadata": {},
   "outputs": [],
   "source": [
    "non_discounted_df = orderDetail_df.loc[orderDetail_df['Discount'] == 0]\n",
    "discounted_df = orderDetail_df.loc[orderDetail_df['Discount'] != 0]\n",
    "\n",
    "#mean_quantity_non_discounted = non_discounted_df['Quantity'].mean()"
   ]
  },
  {
   "cell_type": "code",
   "execution_count": 10,
   "metadata": {},
   "outputs": [
    {
     "name": "stdout",
     "output_type": "stream",
     "text": [
      "[0.01, 0.02, 0.03, 0.04, 0.05, 0.06, 0.1, 0.15, 0.2, 0.25]\n"
     ]
    }
   ],
   "source": [
    "#Get different discount levels\n",
    "\n",
    "discount_rates = discounted_df['Discount'].unique()\n",
    "discount_rates = list(discount_rates)\n",
    "discount_rates.sort()\n",
    "\n",
    "print(discount_rates)\n",
    "\n",
    "discount_rate1 = discount_rates[0]\n",
    "discount_rate2 = discount_rates[1]\n",
    "discount_rate3 = discount_rates[2]\n",
    "discount_rate4 = discount_rates[3]\n",
    "discount_rate5 = discount_rates[4]\n",
    "discount_rate6 = discount_rates[5]\n",
    "discount_rate7 = discount_rates[6]\n",
    "discount_rate8 = discount_rates[7]\n",
    "discount_rate9 = discount_rates[8]\n",
    "discount_rate10 = discount_rates[9]"
   ]
  },
  {
   "cell_type": "markdown",
   "metadata": {},
   "source": [
    "## 1.3 Get Number of Products for Each Subset"
   ]
  },
  {
   "cell_type": "code",
   "execution_count": 11,
   "metadata": {},
   "outputs": [],
   "source": [
    "discount_rate1_df = orderDetail_df.loc[orderDetail_df['Discount'] == discount_rates[0]]\n",
    "discount_rate1_vals = discount_rate1_df['Quantity'].values\n",
    "discount_rate1_sample_size = len(discount_rate1_vals)\n",
    "\n",
    "discount_rate2_df = orderDetail_df.loc[orderDetail_df['Discount'] == discount_rates[1]]\n",
    "discount_rate2_vals = discount_rate2_df['Quantity'].values\n",
    "discount_rate2_sample_size = len(discount_rate2_vals)\n",
    "\n",
    "discount_rate3_df = orderDetail_df.loc[orderDetail_df['Discount'] == discount_rates[2]]\n",
    "discount_rate3_vals = discount_rate3_df['Quantity'].values\n",
    "discount_rate3_sample_size = len(discount_rate3_vals)\n",
    "\n",
    "discount_rate4_df = orderDetail_df.loc[orderDetail_df['Discount'] == discount_rates[3]]\n",
    "discount_rate4_vals = discount_rate4_df['Quantity'].values\n",
    "discount_rate4_sample_size = len(discount_rate4_vals)\n",
    "\n",
    "discount_rate5_df = orderDetail_df.loc[orderDetail_df['Discount'] == discount_rates[4]]\n",
    "discount_rate5_vals = discount_rate5_df['Quantity'].values\n",
    "discount_rate5_sample_size = len(discount_rate5_vals)\n",
    "\n",
    "discount_rate6_df = orderDetail_df.loc[orderDetail_df['Discount'] == discount_rates[5]]\n",
    "discount_rate6_vals = discount_rate6_df['Quantity'].values\n",
    "discount_rate6_sample_size = len(discount_rate6_vals)\n",
    "\n",
    "discount_rate7_df = orderDetail_df.loc[orderDetail_df['Discount'] == discount_rates[6]]\n",
    "discount_rate7_vals = discount_rate7_df['Quantity'].values\n",
    "discount_rate7_sample_size = len(discount_rate7_vals)\n",
    "\n",
    "discount_rate8_df = orderDetail_df.loc[orderDetail_df['Discount'] == discount_rates[7]]\n",
    "discount_rate8_vals = discount_rate8_df['Quantity'].values\n",
    "discount_rate8_sample_size = len(discount_rate8_vals)\n",
    "\n",
    "discount_rate9_df = orderDetail_df.loc[orderDetail_df['Discount'] == discount_rates[8]]\n",
    "discount_rate9_vals = discount_rate9_df['Quantity'].values\n",
    "discount_rate9_sample_size = len(discount_rate9_vals)\n",
    "\n",
    "discount_rate10_df = orderDetail_df.loc[orderDetail_df['Discount'] == discount_rates[9]]\n",
    "discount_rate10_vals = discount_rate10_df['Quantity'].values\n",
    "discount_rate10_sample_size = len(discount_rate10_vals)"
   ]
  },
  {
   "cell_type": "code",
   "execution_count": 12,
   "metadata": {
    "scrolled": true
   },
   "outputs": [
    {
     "name": "stderr",
     "output_type": "stream",
     "text": [
      "/home/james/anaconda3/lib/python3.6/site-packages/matplotlib/axes/_axes.py:6462: UserWarning: The 'normed' kwarg is deprecated, and has been replaced by the 'density' kwarg.\n",
      "  warnings.warn(\"The 'normed' kwarg is deprecated, and has been \"\n",
      "/home/james/anaconda3/lib/python3.6/site-packages/numpy/core/_methods.py:135: RuntimeWarning: Degrees of freedom <= 0 for slice\n",
      "  keepdims=keepdims)\n",
      "/home/james/anaconda3/lib/python3.6/site-packages/numpy/core/_methods.py:127: RuntimeWarning: invalid value encountered in double_scalars\n",
      "  ret = ret.dtype.type(ret / rcount)\n",
      "/home/james/anaconda3/lib/python3.6/site-packages/matplotlib/axes/_axes.py:6462: UserWarning: The 'normed' kwarg is deprecated, and has been replaced by the 'density' kwarg.\n",
      "  warnings.warn(\"The 'normed' kwarg is deprecated, and has been \"\n"
     ]
    },
    {
     "name": "stdout",
     "output_type": "stream",
     "text": [
      "[ 35  15   6  15  40  25  15  21  50  65   6  16  15  21  12  60  60  36\n",
      "  25  12  70  15  60  20  24  15  60  33  12   6  15  15  20   5  45  40\n",
      "  36  40  15  10   3  20  24   2  40  30  40  30  15  25  25  30  40  30\n",
      "  25  21  70  40  80  25  50  35  30  10   8  20  12  50  25  40  10  16\n",
      "  10  40   7  25   6  48  18  70  20  12  40   9  24  56  40  40   4  70\n",
      "  36  50   6  15  15  18  20  77  10  20  12  50  30   8  10  10  20  56\n",
      "  70  80  54  55   5  13  35  18  15  20   6  12  40  70  42  80  50  42\n",
      "  20  20   8  16  20  18  20   6  10  20   8  15  20  60  40  24  25  42\n",
      "   7  70  28  70  10  18 120  21  70  30  40  30  30  42   5   2  25  40\n",
      "   9  20  18   2  36  60  20  20   2   8  20   4  15  10  60  49  30  10\n",
      "  20  35  45  70  50  50  30  18  40  30  24  15  20  15  45  49  24  90\n",
      "   6  12  20   3  15  20   6 120  35  28  55 100  15  25  20  20  10  40\n",
      "  21  16  20  21   4  40  28  60  16  30  18  30  40  35   2  80  35  60\n",
      "  42   2  21  20  20  35  30  20  20  30  60  24  20  15  15   7  60  20\n",
      "  15  10  10  20  12   8  18  14  15  15  36  50  50  10  10   9   6  12\n",
      "  40  50  15  16  16  84  25  80  16  10  40  20  25  25  15  18   6  15\n",
      "   8  30  50  30   8  50  24  10  10  50  10   5  15  15  35  35   4  36\n",
      "   9  15  24  30  70  24  10  55 100  48   8   6  10  40  20  30  20  20\n",
      "  10  30  35  18  20  40  12  18  15  20  10  16   6  25  25  18  35  18\n",
      "  60  40  35  15  60  11  28  12  10  15  15   9  30  50  24  10  50   4\n",
      "  40 100  60  25   5  21  20   4  30 120  65   5  24  30  35  12   5  25\n",
      "   6  10  30  20  70  15  20  20  10  21   8  15  15  15  30  18  15  25\n",
      "  30  35  12   8  30  20  36  13  35  80  10  15  25  60  20  15  30  20\n",
      "  15  21   2   4  21  15  18  30  35  15  25  12  20   2  30  20  12  20\n",
      "   6  20   3  28   6  70  55  70  20  24  40   3  49  30  30  20  24  12\n",
      "  15  45  14   8   4  15  15  30   8  50  20  40  30  12  30  50   6  18\n",
      "  60  35  20  30  60  30  15   7   9  30  30   8  12  65   8   5  12  40\n",
      "  60  42  20  35  28   3  30  27  50  18  12  32  25  12   3  40  50  20\n",
      "  10  10  15   3  10  40  30  20   2   5  35  40  14  15  28  50   5  40\n",
      "  25  12  20  30  30  14  25  21  20   6  20  12  30  35  20 130  80  30\n",
      "  15  15  70   7   2  16  12  27 120  20   3  20   2  30  30  15  42  15\n",
      "  20  50  40   3  20  14  20  15   6  35  21  35  24  20  20  50  10   7\n",
      "  40  20  25  30  60   5  24  15  15   4  20  15  20  50  16  40  12  20\n",
      "   8  30  30  20  40  60  25  20  40  15   3  10  16  20   9   9   8  20\n",
      "   2  40  21   4  25  50  30  15   6  10   4  70  25  42  60  80  12  60\n",
      "  36  45  55  18  20   4  30   5  10  10  42 100  65  15  35  10  40  35\n",
      "  30  20  12  60  80  21   6  40  42  50  12  16  10  20  15  21  21  30\n",
      "  20  30  30  50  20  32  40  21  12  15  40  28  50 120   8   3  30   6\n",
      "  20  20  14  40  60  30  40  60  25  10  10  24  20  30  25  12  25  30\n",
      "  42  30  14  20   4   8  30  20  24  49  35  10  40  44  30  80   5  18\n",
      "  15   6  50  16  50  50  28  25  24  12  20  10   6   2  12  12  40  20\n",
      "  40   6  40  84  36   8  35  40  60  65  66  50  20  90  50  35  18  20\n",
      "  20  20  15  21  25  30  15  24   2  70  90  18  40  50  36  60  28  24\n",
      "  11  44  10  20  30  21 100  60 100  70  36  15   5  30  20  15  18  25\n",
      "  30  10   4  50  10  30  10  35  25  10  12  40  30  77  25   4   4  20\n",
      "   8  36  28  40  20  30  15  10  14  10  30   2  20  20  10  24   1   1\n",
      "   2   2   1   2   1   2   3   2   2   2]\n"
     ]
    },
    {
     "data": {
      "image/png": "[encoded data removed]",
      "text/plain": [
       "<Figure size 864x720 with 1 Axes>"
      ]
     },
     "metadata": {},
     "output_type": "display_data"
    }
   ],
   "source": [
    "discounted = discounted_df['Quantity'].values\n",
    "non_discounted = non_discounted_df['Quantity'].values\n",
    "\n",
    "sns.set(color_codes=True)\n",
    "sns.set(rc={'figure.figsize':(12,10)})\n",
    "sns.distplot(discount_rate1_vals) # Blue distribution\n",
    "sns.distplot(non_discounted) # Green distribution\n",
    "\n",
    "print(discounted)"
   ]
  },
  {
   "cell_type": "markdown",
   "metadata": {},
   "source": [
    "### Null Hypothesis"
   ]
  },
  {
   "cell_type": "markdown",
   "metadata": {},
   "source": [
    "Discounts have no statistically significant effect on the number of products customers order."
   ]
  },
  {
   "cell_type": "markdown",
   "metadata": {},
   "source": [
    "### Alternate Hypothesis"
   ]
  },
  {
   "cell_type": "markdown",
   "metadata": {},
   "source": [
    "Discounts have a statistically significant effect on the number of products customers order."
   ]
  },
  {
   "cell_type": "code",
   "execution_count": null,
   "metadata": {},
   "outputs": [],
   "source": [
    "discounted.mean()\n",
    "non_discounted.mean()\n",
    "discounted.mean() - non_discounted.mean()"
   ]
  },
  {
   "cell_type": "markdown",
   "metadata": {},
   "source": [
    "$$ t = \\frac{\\bar{x}{1} - \\bar{x}{2}}{\\sqrt{s^{2} (\\frac{1}{n_{1}} + \\frac{1}{n_{2}}) } } $$\n"
   ]
  },
  {
   "cell_type": "markdown",
   "metadata": {},
   "source": [
    "$$ s^{2} = \\frac{\\sum_{i=1}^{n_{1}}(x_{i} - \\bar{x}{1})^{2} + \\sum{j=1}^{n_{2}}(x_{j} - \\bar{x}{2})^{2} } {n{1} + n_{2} -2} $$"
   ]
  },
  {
   "cell_type": "code",
   "execution_count": null,
   "metadata": {},
   "outputs": [],
   "source": [
    "def variance(sample):\n",
    "    sample_mean = np.mean(sample)\n",
    "    return sum([(i - sample_mean)**2 for i in sample])\n",
    "\n",
    "def sample_variance(sample1, sample2):\n",
    "    n_1, n_2 = len(sample1), len(sample2)\n",
    "    var_1, var_2 = variance(sample1), variance(sample2)\n",
    "    return (var_1 + var_2)/((n_1 + n_2)-2)\n",
    "\n",
    "def twosample_tstatistic(disc, non_disc):\n",
    "    disc_mean, non_disc_mean = np.mean(disc), np.mean(non_disc)\n",
    "    samp_var = sample_variance(disc, non_disc)\n",
    "    n_d, n_n = len(disc), len(non_disc)\n",
    "    num = disc_mean - non_disc_mean\n",
    "    denom = np.sqrt(samp_var * ((1/n_d)+(1/n_n)))\n",
    "    return num / denom\n",
    "\n",
    "def get_sample_sizes(disc, non_disc):\n",
    "    n_1, n_2 = len(disc), len(non_disc)\n",
    "    print(n_1, n_2)\n",
    "    \n",
    "def get_null_hypothesis_outcome(alpha,p):\n",
    "    if p < alpha:\n",
    "        return 'reject null hypothesis'\n",
    "    else:\n",
    "        return 'fail to reject null hypothesis'\n",
    "    \n",
    "def pass_terms_to_dict(sample_size, disc_rate, t_stat, p, outcome):\n",
    "    return {'sample size':sample_size, 'discount rate': disc_rate, 't_stat': t_stat, 'p': p, 'outcome': outcome}"
   ]
  },
  {
   "cell_type": "code",
   "execution_count": null,
   "metadata": {
    "scrolled": false
   },
   "outputs": [],
   "source": [
    "t_stat1 = twosample_tstatistic(discount_rate1_vals, non_discounted)\n",
    "t_stat2 = twosample_tstatistic(discount_rate2_vals, non_discounted)\n",
    "t_stat3 = twosample_tstatistic(discount_rate3_vals, non_discounted)\n",
    "t_stat4 = twosample_tstatistic(discount_rate4_vals, non_discounted)\n",
    "t_stat5 = twosample_tstatistic(discount_rate5_vals, non_discounted)\n",
    "t_stat6 = twosample_tstatistic(discount_rate6_vals, non_discounted)\n",
    "t_stat7 = twosample_tstatistic(discount_rate7_vals, non_discounted)\n",
    "t_stat8 = twosample_tstatistic(discount_rate8_vals, non_discounted)\n",
    "t_stat9 = twosample_tstatistic(discount_rate9_vals, non_discounted)\n",
    "t_stat10 = twosample_tstatistic(discount_rate9_vals, non_discounted)\n",
    "\n",
    "#print(t_stat1, t_stat2, t_stat3, t_stat4, t_stat5, t_stat6, t_stat7, t_stat8, t_stat9, t_stat10)"
   ]
  },
  {
   "cell_type": "code",
   "execution_count": null,
   "metadata": {},
   "outputs": [],
   "source": [
    "alpha = 0.05\n",
    "\n",
    "p1 = stats.t.sf(abs(t_stat1), len(discounted)+len(non_discounted)-1) * 2\n",
    "p2 = stats.t.sf(abs(t_stat2), len(discounted)+len(non_discounted)-1) * 2\n",
    "p3 = stats.t.sf(abs(t_stat3), len(discounted)+len(non_discounted)-1) * 2\n",
    "p4 = stats.t.sf(abs(t_stat4), len(discounted)+len(non_discounted)-1) * 2\n",
    "p5 = stats.t.sf(abs(t_stat5), len(discounted)+len(non_discounted)-1) * 2\n",
    "p6 = stats.t.sf(abs(t_stat6), len(discounted)+len(non_discounted)-1) * 2\n",
    "p7 = stats.t.sf(abs(t_stat7), len(discounted)+len(non_discounted)-1) * 2\n",
    "p8 = stats.t.sf(abs(t_stat8), len(discounted)+len(non_discounted)-1) * 2\n",
    "p9 = stats.t.sf(abs(t_stat9), len(discounted)+len(non_discounted)-1) * 2\n",
    "p10 = stats.t.sf(abs(t_stat10), len(discounted)+len(non_discounted)-1) * 2\n",
    "\n",
    "#print(p1, p2, p3, p4, p5, p6, p7, p8, p9, p10)"
   ]
  },
  {
   "cell_type": "code",
   "execution_count": null,
   "metadata": {
    "scrolled": true
   },
   "outputs": [],
   "source": [
    "test_outcome1 = get_null_hypothesis_outcome(alpha,p1)\n",
    "test_outcome2 = get_null_hypothesis_outcome(alpha,p2)\n",
    "test_outcome3 = get_null_hypothesis_outcome(alpha,p3)\n",
    "test_outcome4 = get_null_hypothesis_outcome(alpha,p4)\n",
    "test_outcome5 = get_null_hypothesis_outcome(alpha,p5)\n",
    "test_outcome6 = get_null_hypothesis_outcome(alpha,p6)\n",
    "test_outcome7 = get_null_hypothesis_outcome(alpha,p7)\n",
    "test_outcome8 = get_null_hypothesis_outcome(alpha,p8)\n",
    "test_outcome9 = get_null_hypothesis_outcome(alpha,p9)\n",
    "test_outcome10 = get_null_hypothesis_outcome(alpha,p10)\n",
    "\n",
    "#print(test_outcome1)\n",
    "#print(test_outcome2)\n",
    "#print(test_outcome3)\n",
    "#print(test_outcome4)\n",
    "#print(test_outcome5)\n",
    "#print(test_outcome6)\n",
    "#print(test_outcome7)\n",
    "#print(test_outcome8)\n",
    "#print(test_outcome9)\n",
    "#print(test_outcome10)"
   ]
  },
  {
   "cell_type": "markdown",
   "metadata": {},
   "source": [
    "There is a 1.14e-10% chance that the difference in means we're seeing is due to randomness or pure luck. Because this chance falls under the 5% we pre-determined from our 95% confidence interval, we can accept the alternate hypothesis that discounts have a statistically significant effect on the number of products customers order."
   ]
  },
  {
   "cell_type": "markdown",
   "metadata": {},
   "source": []
  },
  {
   "cell_type": "markdown",
   "metadata": {},
   "source": [
    "### Do discounts have a statistically significant effect on the number of products customers order? If so, at what level(s) of discount?"
   ]
  },
  {
   "cell_type": "code",
   "execution_count": null,
   "metadata": {
    "scrolled": true
   },
   "outputs": [],
   "source": [
    "discounted_df"
   ]
  },
  {
   "cell_type": "code",
   "execution_count": null,
   "metadata": {},
   "outputs": [],
   "source": [
    "#Get different discount levels\n",
    "\n",
    "discount_rates = discounted_df['Discount'].unique()\n",
    "discount_rates = list(discount_rates)\n",
    "discount_rates.sort()\n",
    "\n",
    "discount_rates"
   ]
  },
  {
   "cell_type": "code",
   "execution_count": null,
   "metadata": {
    "scrolled": true
   },
   "outputs": [],
   "source": [
    "dict1 = pass_terms_to_dict(discount_rate1_sample_size, discount_rate1, t_stat1, p1, test_outcome1)\n",
    "dict2 = pass_terms_to_dict(discount_rate2_sample_size, discount_rate2, t_stat2, p2, test_outcome2)\n",
    "dict3 = pass_terms_to_dict(discount_rate3_sample_size, discount_rate3, t_stat3, p3, test_outcome3)\n",
    "dict4 = pass_terms_to_dict(discount_rate4_sample_size, discount_rate4, t_stat4, p4, test_outcome4)\n",
    "dict5 = pass_terms_to_dict(discount_rate5_sample_size, discount_rate5, t_stat5, p5, test_outcome5)\n",
    "dict6 = pass_terms_to_dict(discount_rate6_sample_size, discount_rate6, t_stat6, p6, test_outcome6)\n",
    "dict7 = pass_terms_to_dict(discount_rate7_sample_size, discount_rate7, t_stat7, p7, test_outcome7)\n",
    "dict8 = pass_terms_to_dict(discount_rate8_sample_size, discount_rate8, t_stat8, p8, test_outcome8)\n",
    "dict9 = pass_terms_to_dict(discount_rate9_sample_size, discount_rate9, t_stat9, p9, test_outcome9)\n",
    "\n",
    "print(dict1)\n",
    "print(dict2)\n",
    "print(dict3)\n",
    "print(dict4)\n",
    "print(dict5)\n",
    "print(dict6)\n",
    "print(dict7)\n",
    "print(dict8)\n",
    "print(dict9)"
   ]
  },
  {
   "cell_type": "markdown",
   "metadata": {},
   "source": [
    "### What Levels of Discount Have a Statistically Significant Effect on the Amount of Products Customers Order?"
   ]
  },
  {
   "cell_type": "markdown",
   "metadata": {},
   "source": [
    "- 0.03\n",
    "- 0.05\n",
    "- 0.1\n",
    "- 0.15\n",
    "- 0.2"
   ]
  },
  {
   "cell_type": "markdown",
   "metadata": {},
   "source": []
  }
 ],
 "metadata": {
  "kernelspec": {
   "display_name": "Python 3",
   "language": "python",
   "name": "python3"
  },
  "language_info": {
   "codemirror_mode": {
    "name": "ipython",
    "version": 3
   },
   "file_extension": ".py",
   "mimetype": "text/x-python",
   "name": "python",
   "nbconvert_exporter": "python",
   "pygments_lexer": "ipython3",
   "version": "3.6.5"
  }
 },
 "nbformat": 4,
 "nbformat_minor": 2
}
