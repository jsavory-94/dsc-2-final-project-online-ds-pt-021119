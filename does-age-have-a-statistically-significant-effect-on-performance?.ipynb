{
 "cells": [
  {
   "cell_type": "markdown",
   "metadata": {},
   "source": [
    "### Does Age Have a Significant Effect on Performance"
   ]
  },
  {
   "cell_type": "code",
   "execution_count": 1,
   "metadata": {},
   "outputs": [],
   "source": [
    "import sqlite3\n",
    "import pandas as pd\n",
    "import math\n",
    "from scipy import stats\n",
    "import seaborn as sns\n",
    "import numpy as np"
   ]
  },
  {
   "cell_type": "code",
   "execution_count": 2,
   "metadata": {},
   "outputs": [],
   "source": [
    "connection = sqlite3.connect('Northwind_small.sqlite')\n",
    "cursor = connection.cursor()\n",
    "#orderDetail_df = sql_select_to_df(\"\"\"select * from OrderDetail;\"\"\")"
   ]
  },
  {
   "cell_type": "code",
   "execution_count": 3,
   "metadata": {},
   "outputs": [],
   "source": [
    "def sql_select_to_df(SQL_COMMAND, cursor=cursor):\n",
    "    results = cursor.execute(SQL_COMMAND).fetchall()\n",
    "    df = pd.DataFrame(results)\n",
    "    df.columns = [i[0] for i in cursor.description]\n",
    "    return df"
   ]
  },
  {
   "cell_type": "code",
   "execution_count": 4,
   "metadata": {
    "scrolled": true
   },
   "outputs": [],
   "source": [
    "orders_employees_df = sql_select_to_df(\"\"\"SELECT O.EmployeeId, E.BirthDate, COUNT(O.Id) AS Total_Orders  \n",
    "                                FROM [Order] AS O\n",
    "                                JOIN Employee as E\n",
    "                                ON O.EmployeeId = E.Id\n",
    "                                GROUP BY O.EmployeeId\n",
    "                        \"\"\")"
   ]
  },
  {
   "cell_type": "code",
   "execution_count": 5,
   "metadata": {},
   "outputs": [
    {
     "name": "stdout",
     "output_type": "stream",
     "text": [
      "    ShippedDate\n",
      "0    2012-07-16\n",
      "1    2012-07-10\n",
      "2    2012-07-12\n",
      "3    2012-07-15\n",
      "4    2012-07-11\n",
      "5    2012-07-16\n",
      "6    2012-07-23\n",
      "7    2012-07-15\n",
      "8    2012-07-17\n",
      "9    2012-07-22\n",
      "10   2012-07-23\n",
      "11   2012-07-25\n",
      "12   2012-07-29\n",
      "13   2012-07-30\n",
      "14   2012-07-25\n",
      "15   2012-07-31\n",
      "16   2012-08-23\n",
      "17   2012-08-12\n",
      "18   2012-07-31\n",
      "19   2012-08-06\n",
      "20   2012-08-02\n",
      "21   2012-08-09\n",
      "22   2012-08-02\n",
      "23   2012-08-30\n",
      "24   2012-08-06\n",
      "25   2012-08-12\n",
      "26   2012-08-16\n",
      "27   2012-08-09\n",
      "28   2012-08-14\n",
      "29   2012-08-13\n",
      "..          ...\n",
      "800  2014-04-30\n",
      "801  2014-05-04\n",
      "802  2014-05-05\n",
      "803        None\n",
      "804  2014-05-01\n",
      "805  2014-04-29\n",
      "806        None\n",
      "807  2014-05-05\n",
      "808  2014-05-01\n",
      "809  2014-05-01\n",
      "810        None\n",
      "811        None\n",
      "812  2014-05-04\n",
      "813        None\n",
      "814        None\n",
      "815  2014-05-06\n",
      "816  2014-05-04\n",
      "817        None\n",
      "818  2014-05-04\n",
      "819  2014-05-06\n",
      "820        None\n",
      "821  2014-05-06\n",
      "822        None\n",
      "823        None\n",
      "824        None\n",
      "825        None\n",
      "826        None\n",
      "827        None\n",
      "828        None\n",
      "829        None\n",
      "\n",
      "[830 rows x 1 columns]\n"
     ]
    }
   ],
   "source": [
    "#What year is the dataset dated?\n",
    "\n",
    "order_dates = sql_select_to_df(\"\"\"SELECT ShippedDate FROM [Order]\"\"\")\n",
    "print(order_dates)\n",
    "\n",
    "dataset_yr = 2014\n",
    "\n",
    "hiredates = sql_select_to_df(\"\"\"SELECT HireDate FROM Employee\"\"\")"
   ]
  },
  {
   "cell_type": "code",
   "execution_count": 6,
   "metadata": {},
   "outputs": [
    {
     "data": {
      "text/plain": [
       "[16, 19, 19, 22, 24, 27, 30, 34, 45]"
      ]
     },
     "execution_count": 6,
     "metadata": {},
     "output_type": "execute_result"
    }
   ],
   "source": [
    "orders_employees_df\n",
    "#order_employees_df['Age']\n",
    "\n",
    "birth_dates = orders_employees_df['BirthDate'].values\n",
    "\n",
    "dates = []\n",
    "for b in birth_dates:\n",
    "    split_date = b.split('-')\n",
    "    dates.append(split_date)\n",
    "\n",
    "years = []\n",
    "for d in dates:\n",
    "    yr = int(d[0])\n",
    "    years.append(yr)\n",
    "\n",
    "ages = []\n",
    "for y in years:\n",
    "    age = dataset_yr - y\n",
    "    ages.append(age)\n",
    "    \n",
    "sorted(ages)"
   ]
  },
  {
   "cell_type": "code",
   "execution_count": 7,
   "metadata": {
    "scrolled": false
   },
   "outputs": [
    {
     "name": "stdout",
     "output_type": "stream",
     "text": [
      "population 1 (order figures of employees under age 20): [127  67  43]\n",
      "population 2 (order figures of employees between ages 20-29): [ 42  72 104]\n",
      "population 3 (order figures of employees of age 30 and over): [123  96 156]\n"
     ]
    }
   ],
   "source": [
    "orders_employees_df['Age'] = ages\n",
    "orders_employees_df#\n",
    "\n",
    "orders_age_df = orders_employees_df.iloc[:,2:]\n",
    "\n",
    "under_twenties = orders_age_df.loc[orders_age_df['Age'] <20]\n",
    "under_twenties_orders = under_twenties['Total_Orders'].values\n",
    "\n",
    "twenties = orders_age_df.loc[(orders_age_df['Age'] >= 20) & (orders_age_df['Age'] < 30)]\n",
    "twenties_orders = twenties['Total_Orders'].values\n",
    "\n",
    "thirties_plus = orders_age_df.loc[(orders_age_df['Age'] >= 30)]\n",
    "thirties_plus_orders = thirties_plus['Total_Orders'].values\n",
    "\n",
    "print('population 1 (order figures of employees under age 20): ' + str(under_twenties_orders))\n",
    "print('population 2 (order figures of employees between ages 20-29): ' + str(twenties_orders))\n",
    "print('population 3 (order figures of employees of age 30 and over): ' + str(thirties_plus_orders))\n",
    "\n",
    "num_of_groups = 3"
   ]
  },
  {
   "cell_type": "code",
   "execution_count": 8,
   "metadata": {},
   "outputs": [
    {
     "name": "stdout",
     "output_type": "stream",
     "text": [
      "79.0 72.66666666666667 125.0 92.22222222222223\n"
     ]
    }
   ],
   "source": [
    "grand_mean_numer = np.sum(under_twenties_orders) + np.sum(twenties_orders) + np.sum(thirties_plus_orders)\n",
    "grand_mean_denom = len(under_twenties_orders) + len(twenties_orders) + len(thirties_plus_orders)\n",
    "#len(under_twenties_orders)\n",
    "grand_mean = grand_mean_numer/grand_mean_denom\n",
    "grand_mean\n",
    "\n",
    "mean_1 = np.mean(under_twenties_orders)\n",
    "mean_2 = np.mean(twenties_orders)\n",
    "mean_3 = np.mean(thirties_plus_orders)\n",
    "\n",
    "print(mean_1, mean_2, mean_3, grand_mean)\n",
    "#sst = "
   ]
  },
  {
   "cell_type": "code",
   "execution_count": 9,
   "metadata": {},
   "outputs": [
    {
     "data": {
      "text/plain": [
       "12367.555555555555"
      ]
     },
     "execution_count": 9,
     "metadata": {},
     "output_type": "execute_result"
    }
   ],
   "source": [
    "def get_sst(pop1, pop2, pop3):\n",
    "    sst = []\n",
    "    \n",
    "    for i in pop1:\n",
    "        sst_component_1 = (i - grand_mean)**2\n",
    "        sst.append(sst_component_1)\n",
    "        \n",
    "    for j in pop2:\n",
    "        sst_component_2 = (j - grand_mean)**2\n",
    "        sst.append(sst_component_2)\n",
    "        \n",
    "    for k in pop3:\n",
    "        sst_component_3 = (k - grand_mean)**2\n",
    "        sst.append(sst_component_3)\n",
    "    \n",
    "    return sum(sst)\n",
    "\n",
    "get_sst(under_twenties_orders, twenties_orders, thirties_plus_orders)"
   ]
  },
  {
   "cell_type": "code",
   "execution_count": 10,
   "metadata": {
    "scrolled": true
   },
   "outputs": [
    {
     "data": {
      "text/plain": [
       "6"
      ]
     },
     "execution_count": 10,
     "metadata": {},
     "output_type": "execute_result"
    }
   ],
   "source": [
    "def get_ssw(pop1, pop2, pop3):\n",
    "    ssw = []\n",
    "    \n",
    "    for i in pop1:\n",
    "        ssw_component_1 = (i - mean_1)**2\n",
    "        ssw.append(ssw_component_1)\n",
    "        \n",
    "    for j in pop2:\n",
    "        ssw_component_2 = (j - mean_2)**2\n",
    "        ssw.append(ssw_component_2)\n",
    "        \n",
    "    for k in pop3:\n",
    "        ssw_component_3 = (k - mean_3)**2\n",
    "        ssw.append(ssw_component_3)\n",
    "    \n",
    "    return sum(ssw)\n",
    "\n",
    "ssw = get_ssw(under_twenties_orders, twenties_orders, thirties_plus_orders)\n",
    "\n",
    "def get_ssw_degrees_of_freedom(m,n):    \n",
    "    return m*(n-1)\n",
    "\n",
    "ssw_degrees_freedom = get_ssw_degrees_of_freedom(num_of_groups, len(under_twenties_orders))\n",
    "ssw_degrees_freedom"
   ]
  },
  {
   "cell_type": "code",
   "execution_count": 11,
   "metadata": {},
   "outputs": [],
   "source": [
    "def get_ssb(pop1, pop2, pop3):\n",
    "    ssb = []\n",
    "    \n",
    "    for i in pop1:\n",
    "        ssb_component_1 = (mean_1 - grand_mean)**2\n",
    "        ssb.append(ssb_component_1)\n",
    "        \n",
    "    for j in pop2:\n",
    "        ssb_component_2 = (mean_2 - grand_mean)**2\n",
    "        ssb.append(ssb_component_2)\n",
    "        \n",
    "    for k in pop3:\n",
    "        ssb_component_3 = (mean_3 - grand_mean)**2\n",
    "        ssb.append(ssb_component_3)\n",
    "    \n",
    "    return sum(ssb)\n",
    "\n",
    "def get_ssb_degrees_of_freedom(m):    \n",
    "    return m-1\n",
    "\n",
    "ssb = get_ssb(under_twenties_orders, twenties_orders, thirties_plus_orders)\n",
    "ssb_degrees_freedom = get_ssb_degrees_of_freedom(num_of_groups)"
   ]
  },
  {
   "cell_type": "markdown",
   "metadata": {},
   "source": [
    "Null hypothesis: Age doesn't make a difference to quantity sold(mu1 == mu2 == mu3) <br>\n",
    "Alternate hypothesis: Age does make a difference to quantity sold (mu1 == mu2 == mu3)"
   ]
  },
  {
   "cell_type": "code",
   "execution_count": 12,
   "metadata": {},
   "outputs": [
    {
     "name": "stdout",
     "output_type": "stream",
     "text": [
      "1.9651173164421445\n"
     ]
    }
   ],
   "source": [
    "def get_f_statistic(ss_between, df_between, ss_within, df_within):\n",
    "        numerator = ss_between/df_between\n",
    "        denominator = ss_within/df_within\n",
    "        return numerator/denominator\n",
    "\n",
    "    \n",
    "alpha = 0.05\n",
    "f_statistic = get_f_statistic(ssb, ssb_degrees_freedom, ssw, ssw_degrees_freedom)\n",
    "\n",
    "critical_f_value =  5.14\n",
    "\n",
    "print(f_statistic)"
   ]
  },
  {
   "cell_type": "markdown",
   "metadata": {},
   "source": [
    "fail to reject Null Hypothesis"
   ]
  }
 ],
 "metadata": {
  "kernelspec": {
   "display_name": "Python 3",
   "language": "python",
   "name": "python3"
  },
  "language_info": {
   "codemirror_mode": {
    "name": "ipython",
    "version": 3
   },
   "file_extension": ".py",
   "mimetype": "text/x-python",
   "name": "python",
   "nbconvert_exporter": "python",
   "pygments_lexer": "ipython3",
   "version": "3.6.5"
  }
 },
 "nbformat": 4,
 "nbformat_minor": 2
}
