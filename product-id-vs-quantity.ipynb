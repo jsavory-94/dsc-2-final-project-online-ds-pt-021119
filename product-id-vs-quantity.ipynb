{
 "cells": [
  {
   "cell_type": "code",
   "execution_count": 22,
   "metadata": {},
   "outputs": [],
   "source": [
    "import sqlite3\n",
    "import pandas as pd\n",
    "import math\n",
    "from scipy import stats\n",
    "import seaborn as sns\n",
    "import numpy as np\n",
    "import matplotlib as plt"
   ]
  },
  {
   "cell_type": "code",
   "execution_count": 23,
   "metadata": {},
   "outputs": [],
   "source": [
    "connection = sqlite3.connect('Northwind_small.sqlite')\n",
    "cursor = connection.cursor()"
   ]
  },
  {
   "cell_type": "code",
   "execution_count": 24,
   "metadata": {},
   "outputs": [],
   "source": [
    "def sql_select_to_df(SQL_COMMAND, cursor=cursor):\n",
    "    \"\"\"returns output of SQL command in dataframe format\"\"\"\n",
    "    results = cursor.execute(SQL_COMMAND).fetchall()\n",
    "    df = pd.DataFrame(results)\n",
    "    df.columns = [i[0] for i in cursor.description]\n",
    "    return df"
   ]
  },
  {
   "cell_type": "code",
   "execution_count": 27,
   "metadata": {
    "scrolled": true
   },
   "outputs": [],
   "source": [
    "unique_product_IDs = sorted(product_orderDetails_df['ProductId'].unique())"
   ]
  },
  {
   "cell_type": "markdown",
   "metadata": {},
   "source": [
    "Let's get revenues where ProductID == 11"
   ]
  },
  {
   "cell_type": "code",
   "execution_count": 30,
   "metadata": {
    "scrolled": true
   },
   "outputs": [
    {
     "data": {
      "text/plain": [
       "[{'id': 1, 'quantity': 828},\n",
       " {'id': 2, 'quantity': 1057},\n",
       " {'id': 3, 'quantity': 328},\n",
       " {'id': 4, 'quantity': 453},\n",
       " {'id': 5, 'quantity': 298},\n",
       " {'id': 6, 'quantity': 301},\n",
       " {'id': 7, 'quantity': 763},\n",
       " {'id': 8, 'quantity': 372},\n",
       " {'id': 9, 'quantity': 95},\n",
       " {'id': 10, 'quantity': 742},\n",
       " {'id': 11, 'quantity': 706},\n",
       " {'id': 12, 'quantity': 344},\n",
       " {'id': 13, 'quantity': 891},\n",
       " {'id': 14, 'quantity': 404},\n",
       " {'id': 15, 'quantity': 122},\n",
       " {'id': 16, 'quantity': 1158},\n",
       " {'id': 17, 'quantity': 978},\n",
       " {'id': 18, 'quantity': 539},\n",
       " {'id': 19, 'quantity': 723},\n",
       " {'id': 20, 'quantity': 313},\n",
       " {'id': 21, 'quantity': 1016},\n",
       " {'id': 22, 'quantity': 348},\n",
       " {'id': 23, 'quantity': 580},\n",
       " {'id': 24, 'quantity': 1125},\n",
       " {'id': 25, 'quantity': 318},\n",
       " {'id': 26, 'quantity': 753},\n",
       " {'id': 27, 'quantity': 365},\n",
       " {'id': 28, 'quantity': 640},\n",
       " {'id': 29, 'quantity': 746},\n",
       " {'id': 30, 'quantity': 612},\n",
       " {'id': 31, 'quantity': 1397},\n",
       " {'id': 32, 'quantity': 297},\n",
       " {'id': 33, 'quantity': 755},\n",
       " {'id': 34, 'quantity': 506},\n",
       " {'id': 35, 'quantity': 883},\n",
       " {'id': 36, 'quantity': 805},\n",
       " {'id': 37, 'quantity': 125},\n",
       " {'id': 38, 'quantity': 623},\n",
       " {'id': 39, 'quantity': 793},\n",
       " {'id': 40, 'quantity': 1103},\n",
       " {'id': 41, 'quantity': 981},\n",
       " {'id': 42, 'quantity': 697},\n",
       " {'id': 43, 'quantity': 580},\n",
       " {'id': 44, 'quantity': 601},\n",
       " {'id': 45, 'quantity': 508},\n",
       " {'id': 46, 'quantity': 548},\n",
       " {'id': 47, 'quantity': 485},\n",
       " {'id': 48, 'quantity': 138},\n",
       " {'id': 49, 'quantity': 520},\n",
       " {'id': 50, 'quantity': 235},\n",
       " {'id': 51, 'quantity': 886},\n",
       " {'id': 52, 'quantity': 500},\n",
       " {'id': 53, 'quantity': 722},\n",
       " {'id': 54, 'quantity': 755},\n",
       " {'id': 55, 'quantity': 903},\n",
       " {'id': 56, 'quantity': 1263},\n",
       " {'id': 57, 'quantity': 434},\n",
       " {'id': 58, 'quantity': 534},\n",
       " {'id': 59, 'quantity': 1496},\n",
       " {'id': 60, 'quantity': 1577},\n",
       " {'id': 61, 'quantity': 603},\n",
       " {'id': 62, 'quantity': 1083},\n",
       " {'id': 63, 'quantity': 445},\n",
       " {'id': 64, 'quantity': 740},\n",
       " {'id': 65, 'quantity': 745},\n",
       " {'id': 66, 'quantity': 239},\n",
       " {'id': 67, 'quantity': 184},\n",
       " {'id': 68, 'quantity': 799},\n",
       " {'id': 69, 'quantity': 714},\n",
       " {'id': 70, 'quantity': 817},\n",
       " {'id': 71, 'quantity': 1057},\n",
       " {'id': 72, 'quantity': 806},\n",
       " {'id': 73, 'quantity': 293},\n",
       " {'id': 74, 'quantity': 297},\n",
       " {'id': 75, 'quantity': 1155},\n",
       " {'id': 76, 'quantity': 981},\n",
       " {'id': 77, 'quantity': 791}]"
      ]
     },
     "execution_count": 30,
     "metadata": {},
     "output_type": "execute_result"
    }
   ],
   "source": [
    "def get_dict_of_productID_with_revenues(df,unique_vals):\n",
    "    master_list = []\n",
    "    for i in unique_vals:\n",
    "        revenues_of_Id_i = df.loc[df['ProductId'] == i]\n",
    "        revenues_of_Id_i = sum(list(revenues_of_Id_i['Revenues'].values))\n",
    "        \n",
    "        revenue_dict = {'id':i, 'revenue':revenues_of_Id_i}\n",
    "        master_list.append(revenue_dict)\n",
    "        \n",
    "    return master_list\n",
    "\n",
    "\n",
    "def get_dict_of_productID_with_quantities(df,unique_vals):\n",
    "    master_list = []\n",
    "    for i in unique_vals:\n",
    "        revenues_of_Id_i = df.loc[df['ProductId'] == i]\n",
    "        revenues_of_Id_i = sum(list(revenues_of_Id_i['Quantity'].values))\n",
    "        \n",
    "        revenue_dict = {'id':i, 'quantity':revenues_of_Id_i}\n",
    "        master_list.append(revenue_dict)\n",
    "        \n",
    "    return master_list\n",
    "\n",
    "revenue_productID_dict = get_dict_of_productID_with_revenues(product_orderDetails_df, unique_product_IDs)\n",
    "quantity_productID_dict = get_dict_of_productID_with_quantities(product_orderDetails_df, unique_product_IDs)\n",
    "\n",
    "quantity_productID_dict"
   ]
  },
  {
   "cell_type": "code",
   "execution_count": null,
   "metadata": {
    "scrolled": true
   },
   "outputs": [],
   "source": [
    "product_ids = []\n",
    "revenues = []\n",
    "\n",
    "for r in revenue_productID_dict:\n",
    "    prod_id = str(r['id'])\n",
    "    revenue = r['revenue']\n",
    "    \n",
    "    product_ids.append(prod_id)\n",
    "    revenues.append(revenue)\n",
    "\n",
    "quantities = []\n",
    "for q in quantity_productID_dict:\n",
    "    #prod_id = str(q['id'])\n",
    "    quantity = q['quantity']\n",
    "    \n",
    "    #product_ids.append(prod_id)\n",
    "    quantities.append(quantity)\n",
    "\n",
    "\n",
    "\n",
    "len(quantities)"
   ]
  },
  {
   "cell_type": "code",
   "execution_count": null,
   "metadata": {
    "scrolled": true
   },
   "outputs": [],
   "source": [
    "import matplotlib.pyplot as plt; plt.rcdefaults()\n",
    "import numpy as np\n",
    "import matplotlib.pyplot as plt\n",
    "\n",
    "#objects = ('Python', 'C++', 'Java', 'Perl', 'Scala', 'Lisp')\n",
    "\n",
    "y_pos = np.arange(len(product_ids))\n",
    "performance = [10,8,6,4,2,1]\n",
    "\n",
    "#print(type(objects))\n",
    "plt.bar(y_pos, quantities, align='center', alpha=0.5)\n",
    "plt.xticks(y_pos, product_ids)\n",
    "plt.ylabel('Revenue')\n",
    "plt.title('Product ID Revenue generation')\n",
    "#plt.figure.set_size_inches(18.5,10.5)\n",
    "\n",
    "plt.show()"
   ]
  },
  {
   "cell_type": "code",
   "execution_count": null,
   "metadata": {},
   "outputs": [],
   "source": []
  }
 ],
 "metadata": {
  "kernelspec": {
   "display_name": "Python 3",
   "language": "python",
   "name": "python3"
  },
  "language_info": {
   "codemirror_mode": {
    "name": "ipython",
    "version": 3
   },
   "file_extension": ".py",
   "mimetype": "text/x-python",
   "name": "python",
   "nbconvert_exporter": "python",
   "pygments_lexer": "ipython3",
   "version": "3.6.5"
  }
 },
 "nbformat": 4,
 "nbformat_minor": 2
}
